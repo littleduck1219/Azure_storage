{
  "cells": [
    {
      "cell_type": "code",
      "execution_count": null,
      "metadata": {
        "colab": {
          "base_uri": "https://localhost:8080/"
        },
        "id": "_DjyfcZ7tvs6",
        "outputId": "83f212ac-028e-409a-bec3-cf2f81bc8430"
      },
      "outputs": [
        {
          "name": "stdout",
          "output_type": "stream",
          "text": [
            "Looking in indexes: https://pypi.org/simple, https://us-python.pkg.dev/colab-wheels/public/simple/\n",
            "Collecting azure-storage-blob\n",
            "  Downloading azure_storage_blob-12.14.1-py3-none-any.whl (383 kB)\n",
            "\u001b[K     |████████████████████████████████| 383 kB 13.4 MB/s \n",
            "\u001b[?25hCollecting msrest>=0.7.1\n",
            "  Downloading msrest-0.7.1-py3-none-any.whl (85 kB)\n",
            "\u001b[K     |████████████████████████████████| 85 kB 1.8 MB/s \n",
            "\u001b[?25hCollecting cryptography>=2.1.4\n",
            "  Downloading cryptography-38.0.3-cp36-abi3-manylinux_2_24_x86_64.whl (4.1 MB)\n",
            "\u001b[K     |████████████████████████████████| 4.1 MB 32.3 MB/s \n",
            "\u001b[?25hCollecting azure-core<2.0.0,>=1.24.2\n",
            "  Downloading azure_core-1.26.1-py3-none-any.whl (172 kB)\n",
            "\u001b[K     |████████████████████████████████| 172 kB 18.8 MB/s \n",
            "\u001b[?25hRequirement already satisfied: typing-extensions>=4.0.1 in /usr/local/lib/python3.7/dist-packages (from azure-core<2.0.0,>=1.24.2->azure-storage-blob) (4.1.1)\n",
            "Requirement already satisfied: requests>=2.18.4 in /usr/local/lib/python3.7/dist-packages (from azure-core<2.0.0,>=1.24.2->azure-storage-blob) (2.23.0)\n",
            "Requirement already satisfied: six>=1.11.0 in /usr/local/lib/python3.7/dist-packages (from azure-core<2.0.0,>=1.24.2->azure-storage-blob) (1.15.0)\n",
            "Requirement already satisfied: cffi>=1.12 in /usr/local/lib/python3.7/dist-packages (from cryptography>=2.1.4->azure-storage-blob) (1.15.1)\n",
            "Requirement already satisfied: pycparser in /usr/local/lib/python3.7/dist-packages (from cffi>=1.12->cryptography>=2.1.4->azure-storage-blob) (2.21)\n",
            "Requirement already satisfied: certifi>=2017.4.17 in /usr/local/lib/python3.7/dist-packages (from msrest>=0.7.1->azure-storage-blob) (2022.9.24)\n",
            "Collecting isodate>=0.6.0\n",
            "  Downloading isodate-0.6.1-py2.py3-none-any.whl (41 kB)\n",
            "\u001b[K     |████████████████████████████████| 41 kB 127 kB/s \n",
            "\u001b[?25hRequirement already satisfied: requests-oauthlib>=0.5.0 in /usr/local/lib/python3.7/dist-packages (from msrest>=0.7.1->azure-storage-blob) (1.3.1)\n",
            "Requirement already satisfied: chardet<4,>=3.0.2 in /usr/local/lib/python3.7/dist-packages (from requests>=2.18.4->azure-core<2.0.0,>=1.24.2->azure-storage-blob) (3.0.4)\n",
            "Requirement already satisfied: idna<3,>=2.5 in /usr/local/lib/python3.7/dist-packages (from requests>=2.18.4->azure-core<2.0.0,>=1.24.2->azure-storage-blob) (2.10)\n",
            "Requirement already satisfied: urllib3!=1.25.0,!=1.25.1,<1.26,>=1.21.1 in /usr/local/lib/python3.7/dist-packages (from requests>=2.18.4->azure-core<2.0.0,>=1.24.2->azure-storage-blob) (1.24.3)\n",
            "Requirement already satisfied: oauthlib>=3.0.0 in /usr/local/lib/python3.7/dist-packages (from requests-oauthlib>=0.5.0->msrest>=0.7.1->azure-storage-blob) (3.2.2)\n",
            "Installing collected packages: isodate, azure-core, msrest, cryptography, azure-storage-blob\n",
            "Successfully installed azure-core-1.26.1 azure-storage-blob-12.14.1 cryptography-38.0.3 isodate-0.6.1 msrest-0.7.1\n"
          ]
        }
      ],
      "source": [
        "!pip install azure-storage-blob"
      ]
    },
    {
      "cell_type": "code",
      "execution_count": null,
      "metadata": {
        "id": "O4rLubSvt-X5"
      },
      "outputs": [],
      "source": [
        "# 필요한 패키지를 불러옵니다.\n",
        "import os, uuid\n",
        "from azure.storage.blob import BlobServiceClient,BlobClient,ContainerClient"
      ]
    },
    {
      "cell_type": "code",
      "execution_count": null,
      "metadata": {
        "id": "4VlM3fN3uk_H"
      },
      "outputs": [],
      "source": [
        "# blob서비스에 연결합니다.\n",
        "connect_string = '-'  #연결문자열값\n",
        "blob_service_client = BlobServiceClient.from_connection_string(connect_string)"
      ]
    },
    {
      "cell_type": "code",
      "execution_count": null,
      "metadata": {
        "colab": {
          "base_uri": "https://localhost:8080/"
        },
        "id": "xCNm5Qkfv5cJ",
        "outputId": "5be6594c-8ecf-4731-bdad-e4320a88563b"
      },
      "outputs": [
        {
          "name": "stdout",
          "output_type": "stream",
          "text": [
            "8f7b3a86-b8b2-47b6-ad2e-eda5f86e885e\n"
          ]
        }
      ],
      "source": [
        "# Container 생성한다.\n",
        "container_name = str(uuid.uuid4())\n",
        "print(container_name)"
      ]
    },
    {
      "cell_type": "code",
      "execution_count": null,
      "metadata": {
        "id": "A9xUY3JKwTry"
      },
      "outputs": [],
      "source": [
        "container_client = blob_service_client.create_container(container_name)"
      ]
    },
    {
      "cell_type": "code",
      "execution_count": null,
      "metadata": {
        "id": "xJq4Te6WwuzA"
      },
      "outputs": [],
      "source": [
        "# 데이터를 업로드 한다.\n",
        "local_path = './data'\n",
        "os.mkdir(local_path)\n",
        "\n",
        "local_file_name = str(uuid.uuid4()) + '.txt'\n",
        "upload_file_path = os.path.join(local_path, local_file_name)"
      ]
    },
    {
      "cell_type": "code",
      "execution_count": null,
      "metadata": {
        "id": "BobZtnBiyIn7"
      },
      "outputs": [],
      "source": [
        "# 업로드 할 파일을 준비한다.\n",
        "file = open(file=upload_file_path, mode='w')\n",
        "file.write('Hello Azure Storage')\n",
        "file.close()\n",
        "\n",
        "blob_client = blob_service_client.get_blob_client(container=container_name,\n",
        "                                                  blob=local_file_name)\n",
        "\n",
        "# 파일 업로드\n",
        "with open(file=upload_file_path, mode='rb') as data:\n",
        "  blob_client.upload_blob(data)"
      ]
    },
    {
      "cell_type": "code",
      "execution_count": null,
      "metadata": {
        "colab": {
          "base_uri": "https://localhost:8080/"
        },
        "id": "cUV-DNNb04cH",
        "outputId": "2395f430-f106-4b1e-9409-ad7b49c24892"
      },
      "outputs": [
        {
          "name": "stdout",
          "output_type": "stream",
          "text": [
            "\te62b4f08-d877-4d40-87a5-f68d0d81dcb8.txt\n"
          ]
        }
      ],
      "source": [
        "# 파일 목록 확인\n",
        "blob_list = container_client.list_blobs()\n",
        "for blob in blob_list:\n",
        "  print('\\t' + blob.name)"
      ]
    },
    {
      "cell_type": "code",
      "execution_count": 20,
      "metadata": {
        "id": "-Z4ZbjpXzhcZ"
      },
      "outputs": [],
      "source": [
        "# 업로드된 파일의 다운로드\n",
        "download_file_path = os.path.join(local_path, \n",
        "                                  str.replace(local_file_name,'.txt','DOWNLOAD.txt'))\n",
        "container_client = blob_service_client.get_container_client(container= container_name) \n",
        "\n",
        "with open(file=download_file_path, mode='wb') as download_file:\n",
        "  download_file.write(container_client.download_blob(blob.name).readall())"
      ]
    },
    {
      "cell_type": "code",
      "execution_count": 24,
      "metadata": {
        "colab": {
          "base_uri": "https://localhost:8080/"
        },
        "id": "zVMW6h7T20U0",
        "outputId": "c89f8058-9e85-4f60-d559-145d5bd6cc05"
      },
      "outputs": [
        {
          "name": "stdout",
          "output_type": "stream",
          "text": [
            "Done\n"
          ]
        }
      ],
      "source": [
        "# 실습한 자원의 정리\n",
        "print('Press the Enter Key to begin clean up')\n",
        "input()\n",
        "\n",
        "print('Deleting blob container...')\n",
        "container_client.delete_container()\n",
        "\n",
        "print('Deleting the local source and downloaded files...')\n",
        "os.remove(upload_file_path)\n",
        "os.remove(download_file_path)\n",
        "os.rmdir(local_path)\n",
        "\n",
        "print('Done')"
      ]
    }
  ],
  "metadata": {
    "colab": {
      "collapsed_sections": [],
      "provenance": []
    },
    "kernelspec": {
      "display_name": "Python 3.10.8 64-bit",
      "language": "python",
      "name": "python3"
    },
    "language_info": {
      "name": "python",
      "version": "3.10.8"
    },
    "vscode": {
      "interpreter": {
        "hash": "b0fa6594d8f4cbf19f97940f81e996739fb7646882a419484c72d19e05852a7e"
      }
    }
  },
  "nbformat": 4,
  "nbformat_minor": 0
}
