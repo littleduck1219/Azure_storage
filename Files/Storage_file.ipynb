{
  "cells": [
    {
      "cell_type": "code",
      "execution_count": null,
      "metadata": {
        "colab": {
          "base_uri": "https://localhost:8080/"
        },
        "id": "X3s7dQfvJeu5",
        "outputId": "bd2eac39-7e54-4c6f-8fe5-b50ad58bdeb5"
      },
      "outputs": [
        {
          "name": "stdout",
          "output_type": "stream",
          "text": [
            "Looking in indexes: https://pypi.org/simple, https://us-python.pkg.dev/colab-wheels/public/simple/\n",
            "Collecting azure-storage-file\n",
            "  Downloading azure_storage_file-2.1.0-py2.py3-none-any.whl (36 kB)\n",
            "Collecting azure-common>=1.1.5\n",
            "  Downloading azure_common-1.1.28-py2.py3-none-any.whl (14 kB)\n",
            "Collecting azure-storage-common~=2.1\n",
            "  Downloading azure_storage_common-2.1.0-py2.py3-none-any.whl (47 kB)\n",
            "\u001b[K     |████████████████████████████████| 47 kB 1.3 MB/s \n",
            "\u001b[?25hRequirement already satisfied: requests in /usr/local/lib/python3.7/dist-packages (from azure-storage-common~=2.1->azure-storage-file) (2.23.0)\n",
            "Requirement already satisfied: python-dateutil in /usr/local/lib/python3.7/dist-packages (from azure-storage-common~=2.1->azure-storage-file) (2.8.2)\n",
            "Collecting cryptography\n",
            "  Downloading cryptography-38.0.3-cp36-abi3-manylinux_2_24_x86_64.whl (4.1 MB)\n",
            "\u001b[K     |████████████████████████████████| 4.1 MB 27.9 MB/s \n",
            "\u001b[?25hRequirement already satisfied: cffi>=1.12 in /usr/local/lib/python3.7/dist-packages (from cryptography->azure-storage-common~=2.1->azure-storage-file) (1.15.1)\n",
            "Requirement already satisfied: pycparser in /usr/local/lib/python3.7/dist-packages (from cffi>=1.12->cryptography->azure-storage-common~=2.1->azure-storage-file) (2.21)\n",
            "Requirement already satisfied: six>=1.5 in /usr/local/lib/python3.7/dist-packages (from python-dateutil->azure-storage-common~=2.1->azure-storage-file) (1.15.0)\n",
            "Requirement already satisfied: certifi>=2017.4.17 in /usr/local/lib/python3.7/dist-packages (from requests->azure-storage-common~=2.1->azure-storage-file) (2022.9.24)\n",
            "Requirement already satisfied: idna<3,>=2.5 in /usr/local/lib/python3.7/dist-packages (from requests->azure-storage-common~=2.1->azure-storage-file) (2.10)\n",
            "Requirement already satisfied: urllib3!=1.25.0,!=1.25.1,<1.26,>=1.21.1 in /usr/local/lib/python3.7/dist-packages (from requests->azure-storage-common~=2.1->azure-storage-file) (1.24.3)\n",
            "Requirement already satisfied: chardet<4,>=3.0.2 in /usr/local/lib/python3.7/dist-packages (from requests->azure-storage-common~=2.1->azure-storage-file) (3.0.4)\n",
            "Installing collected packages: cryptography, azure-common, azure-storage-common, azure-storage-file\n",
            "Successfully installed azure-common-1.1.28 azure-storage-common-2.1.0 azure-storage-file-2.1.0 cryptography-38.0.3\n"
          ]
        }
      ],
      "source": [
        "!pip install azure-storage-file"
      ]
    },
    {
      "cell_type": "code",
      "execution_count": null,
      "metadata": {
        "id": "OX9TR0BYJi5-"
      },
      "outputs": [],
      "source": [
        "# file share connect\n",
        "\n",
        "from azure.storage.file import FileService\n",
        "file_service = FileService(account_name='labuser15storage82',\n",
        "                           account_key='8ZU2voP4zdpfF/cORiBiUYJy57MdzUdV7odrLVsZcD/E/U5RhlA99rOu3hq1t8nZG9Q3MihrKp5J+AStY3rz9A==')"
      ]
    },
    {
      "cell_type": "code",
      "execution_count": null,
      "metadata": {
        "colab": {
          "base_uri": "https://localhost:8080/"
        },
        "id": "7VxhMUSvMXRb",
        "outputId": "a5b19048-0200-4b98-80d6-4346ec41cb3a"
      },
      "outputs": [
        {
          "data": {
            "text/plain": [
              "True"
            ]
          },
          "execution_count": 5,
          "metadata": {},
          "output_type": "execute_result"
        }
      ],
      "source": [
        "# my share 공유폴더 생성\n",
        "\n",
        "file_service.create_share('myshare')"
      ]
    },
    {
      "cell_type": "code",
      "execution_count": null,
      "metadata": {
        "colab": {
          "base_uri": "https://localhost:8080/"
        },
        "id": "G-2dLmYFNG0A",
        "outputId": "a018de0b-194f-4901-c9de-257767e1aa68"
      },
      "outputs": [
        {
          "data": {
            "text/plain": [
              "True"
            ]
          },
          "execution_count": 6,
          "metadata": {},
          "output_type": "execute_result"
        }
      ],
      "source": [
        "# my share 안에 샘플 디렉토리 생성\n",
        "\n",
        "file_service.create_directory('myshare','sampledir')"
      ]
    },
    {
      "cell_type": "code",
      "execution_count": null,
      "metadata": {
        "id": "svIYZ4HlNlTz"
      },
      "outputs": [],
      "source": [
        "# 이미지 올리기\n",
        "\n",
        "from azure.storage.file import ContentSettings\n",
        "\n",
        "file_service.create_file_from_path('myshare',\n",
        "                                   None,\n",
        "                                   'myfile',\n",
        "                                   'LEGEND.jpeg',\n",
        "                                   content_settings=ContentSettings(content_type='image/jpeg'))"
      ]
    },
    {
      "cell_type": "code",
      "execution_count": null,
      "metadata": {
        "colab": {
          "base_uri": "https://localhost:8080/"
        },
        "id": "hZuBOzCqO5kH",
        "outputId": "99cc21df-18eb-42d4-d954-1f2a8318c41c"
      },
      "outputs": [
        {
          "name": "stdout",
          "output_type": "stream",
          "text": [
            "myfile\n",
            "sampledir\n"
          ]
        }
      ],
      "source": [
        "# 파일목록 확인\n",
        "\n",
        "generator = file_service.list_directories_and_files('myshare')\n",
        "for file_or_dir in generator:\n",
        "  print(file_or_dir.name)"
      ]
    },
    {
      "cell_type": "code",
      "execution_count": null,
      "metadata": {
        "colab": {
          "base_uri": "https://localhost:8080/"
        },
        "id": "g2dgS08_Plzu",
        "outputId": "7fb8e1ee-9944-4327-c0f3-35f5d2a11fd7"
      },
      "outputs": [
        {
          "data": {
            "text/plain": [
              "<azure.storage.file.models.File at 0x7f8409771990>"
            ]
          },
          "execution_count": 10,
          "metadata": {},
          "output_type": "execute_result"
        }
      ],
      "source": [
        "# 다시 my file로 복사된 LEGNE.jpeg를 out-11로 파일 가져오기\n",
        "\n",
        "file_service.get_file_to_path('myshare',None,'myfile','out-11.jpeg')"
      ]
    },
    {
      "cell_type": "code",
      "execution_count": null,
      "metadata": {
        "id": "K41_IvynQEJ7"
      },
      "outputs": [],
      "source": [
        "# 스냅샷을 찍는다\n",
        "\n",
        "metadata = {\"foo\":\"bar\"}# 일종의 태그\n",
        "snapshot = file_service.snapshot_share('myshare', metadata=metadata)"
      ]
    },
    {
      "cell_type": "code",
      "execution_count": null,
      "metadata": {
        "colab": {
          "base_uri": "https://localhost:8080/"
        },
        "id": "q5qbZ4mNnrHJ",
        "outputId": "4528677a-ebe8-4d04-e161-b53f1078393c"
      },
      "outputs": [
        {
          "name": "stdout",
          "output_type": "stream",
          "text": [
            "2022-11-08T00:19:38.0000000Z\n",
            "2022-11-08T00:23:19.0000000Z\n",
            "None\n"
          ]
        }
      ],
      "source": [
        "# 전체 스냅샷의 목록을 가져온다\n",
        "\n",
        "shares = list(file_service.list_shares(include_snapshots=True))\n",
        "\n",
        "for s in shares:\n",
        "  print(s.snapshot)"
      ]
    },
    {
      "cell_type": "code",
      "execution_count": null,
      "metadata": {
        "id": "D7EZuDoyn4Wt"
      },
      "outputs": [],
      "source": [
        "# 스냅샷의 파일과 디렉토리 목록을 가져온다.\n",
        "\n",
        "directories_and_filed = list(\n",
        "    file_service.list_directories_and_files('myshare', snapshot='2022-11-08T00:23:19.0000000Z'))"
      ]
    },
    {
      "cell_type": "code",
      "execution_count": null,
      "metadata": {
        "colab": {
          "base_uri": "https://localhost:8080/"
        },
        "id": "HvMcY2dSoZFf",
        "outputId": "96b426a9-b62a-41d0-f1de-09dd5f6d638a"
      },
      "outputs": [
        {
          "name": "stdout",
          "output_type": "stream",
          "text": [
            "myfile\n",
            "sampledir\n"
          ]
        }
      ],
      "source": [
        "# 파일과 디렉토리 목록을 출력한다.\n",
        "\n",
        "directories_and_filed\n",
        "for file_or_dir in generator:\n",
        "  print(file_or_dir.name)"
      ]
    },
    {
      "cell_type": "code",
      "execution_count": null,
      "metadata": {
        "colab": {
          "base_uri": "https://localhost:8080/"
        },
        "id": "_XAvG9t6oj-G",
        "outputId": "fab33064-8fd7-43da-9bf6-9a918ffe97a3"
      },
      "outputs": [
        {
          "data": {
            "text/plain": [
              "True"
            ]
          },
          "execution_count": 20,
          "metadata": {},
          "output_type": "execute_result"
        }
      ],
      "source": [
        "# 스냅샷의 삭제\n",
        "\n",
        "file_service.delete_share('myshare', snapshot='2022-11-08T00:23:19.0000000Z')"
      ]
    },
    {
      "cell_type": "code",
      "execution_count": null,
      "metadata": {
        "id": "tdvNOoWpquCY"
      },
      "outputs": [],
      "source": [
        "# 공유폴더의 파일삭제\n",
        "\n",
        "file_service.delete_file('myshare',None,'myfile')"
      ]
    },
    {
      "cell_type": "code",
      "execution_count": null,
      "metadata": {
        "colab": {
          "base_uri": "https://localhost:8080/"
        },
        "id": "_q5-zRWaq6pm",
        "outputId": "f53e2a8b-b43d-4322-85ec-cefefbe2e1d0"
      },
      "outputs": [
        {
          "data": {
            "text/plain": [
              "True"
            ]
          },
          "execution_count": 22,
          "metadata": {},
          "output_type": "execute_result"
        }
      ],
      "source": [
        "# 공유폴더의 삭제\n",
        "\n",
        "file_service.delete_share('myshare')"
      ]
    },
    {
      "cell_type": "code",
      "execution_count": null,
      "metadata": {
        "id": "_jnHsM7prNAc"
      },
      "outputs": [],
      "source": []
    }
  ],
  "metadata": {
    "colab": {
      "collapsed_sections": [],
      "provenance": []
    },
    "kernelspec": {
      "display_name": "Python 3.10.8 64-bit",
      "language": "python",
      "name": "python3"
    },
    "language_info": {
      "name": "python",
      "version": "3.10.8"
    },
    "vscode": {
      "interpreter": {
        "hash": "b0fa6594d8f4cbf19f97940f81e996739fb7646882a419484c72d19e05852a7e"
      }
    }
  },
  "nbformat": 4,
  "nbformat_minor": 0
}
